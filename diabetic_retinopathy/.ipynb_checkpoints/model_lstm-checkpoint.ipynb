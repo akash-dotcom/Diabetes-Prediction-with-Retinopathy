{
 "cells": [
  {
   "cell_type": "markdown",
   "id": "a38a5649",
   "metadata": {},
   "source": [
    "# Diabetic Retinopathy Detection using LSTM"
   ]
  },
  {
   "cell_type": "code",
   "execution_count": 1,
   "id": "48cc1fdc",
   "metadata": {},
   "outputs": [
    {
     "name": "stdout",
     "output_type": "stream",
     "text": [
      "{'Mild': 0, 'Moderate': 1, 'No_DR': 2, 'Proliferate_DR': 3, 'Severe': 4}\n",
      "['Mild', 'Moderate', 'No_DR', 'Proliferate_DR', 'Severe']\n",
      "[0, 1, 2, 3, 4]\n"
     ]
    }
   ],
   "source": [
    "import cv2, os\n",
    "import numpy as np\n",
    "from keras.models import Sequential\n",
    "from keras.layers import Dense, LSTM, Dropout\n",
    "\n",
    "data_path = 'dataset/'\n",
    "categories = os.listdir(data_path)\n",
    "\n",
    "labels = [i for i in range(len(categories))]\n",
    "label_dict = dict(zip(categories, labels))\n",
    "\n",
    "print(label_dict)\n",
    "print(categories)\n",
    "print(labels)"
   ]
  },
  {
   "cell_type": "code",
   "execution_count": 2,
   "id": "fb23b702",
   "metadata": {},
   "outputs": [],
   "source": [
    "img_size = 224\n",
    "sequence_length = img_size * img_size\n",
    "num_categories = len(categories)\n",
    "\n",
    "data = []\n",
    "label = []\n",
    "\n",
    "for category in categories:\n",
    "    folder_path = os.path.join(data_path, category)\n",
    "    img_names = os.listdir(folder_path)\n",
    "        \n",
    "    for img_name in img_names:\n",
    "        img_path = os.path.join(folder_path, img_name)\n",
    "        img = cv2.imread(img_path)\n",
    "        try:\n",
    "            gray = cv2.cvtColor(img, cv2.COLOR_BGR2GRAY)  \n",
    "            resized = cv2.resize(gray, (img_size, img_size))\n",
    "            # Convert image to sequence of pixels\n",
    "            sequence = resized.reshape(sequence_length).tolist()\n",
    "            # Add sequence and label to data and label lists\n",
    "            data.append(sequence)\n",
    "            label.append(label_dict[category])\n",
    "        except Exception as e:\n",
    "            print('Exception:', e)"
   ]
  },
  {
   "cell_type": "markdown",
   "id": "9af65c9e",
   "metadata": {},
   "source": [
    "# Recale and assign  catagorical labels"
   ]
  },
  {
   "cell_type": "code",
   "execution_count": 3,
   "id": "eda83d37",
   "metadata": {},
   "outputs": [],
   "source": [
    "# Convert data and label lists to numpy arrays\n",
    "data = np.array(data)\n",
    "label = np.array(label)\n",
    "\n",
    "# One-hot encode the labels\n",
    "from keras.utils import np_utils\n",
    "label = np_utils.to_categorical(label)"
   ]
  },
  {
   "cell_type": "markdown",
   "id": "cb64fdaf",
   "metadata": {},
   "source": [
    "# Splitting data into traning and testing"
   ]
  },
  {
   "cell_type": "code",
   "execution_count": 4,
   "id": "a87073c2",
   "metadata": {},
   "outputs": [],
   "source": [
    "# Split the data into training and testing sets\n",
    "from sklearn.model_selection import train_test_split\n",
    "x_train, x_test, y_train, y_test = train_test_split(data, label, test_size=0.1)\n",
    "\n",
    "# Reshape the data to match the input shape of the LSTM model\n",
    "x_train = x_train.reshape(x_train.shape[0], 1, sequence_length)\n",
    "x_test = x_test.reshape(x_test.shape[0], 1, sequence_length)"
   ]
  },
  {
   "cell_type": "markdown",
   "id": "774a1a9e",
   "metadata": {},
   "source": [
    "# LSTM Model"
   ]
  },
  {
   "cell_type": "code",
   "execution_count": 5,
   "id": "d8680216",
   "metadata": {},
   "outputs": [],
   "source": [
    "# Define the LSTM model\n",
    "model = Sequential()\n",
    "model.add(LSTM(128, input_shape=(1, sequence_length)))\n",
    "model.add(Dropout(0.2))\n",
    "model.add(Dense(64, activation='relu'))\n",
    "model.add(Dropout(0.1))\n",
    "model.add(Dense(num_categories, activation='softmax'))\n",
    "model.compile(loss='categorical_crossentropy', optimizer='adam', metrics=['accuracy'])"
   ]
  },
  {
   "cell_type": "code",
   "execution_count": 6,
   "id": "3b54aa34",
   "metadata": {},
   "outputs": [
    {
     "name": "stdout",
     "output_type": "stream",
     "text": [
      "Epoch 1/10\n",
      "83/83 [==============================] - 59s 614ms/step - loss: 1.3519 - accuracy: 0.4715 - val_loss: 1.3143 - val_accuracy: 0.5129\n",
      "Epoch 2/10\n",
      "83/83 [==============================] - 165s 2s/step - loss: 1.3208 - accuracy: 0.4795 - val_loss: 1.2911 - val_accuracy: 0.5129\n",
      "Epoch 3/10\n",
      "83/83 [==============================] - 124s 1s/step - loss: 1.3123 - accuracy: 0.4886 - val_loss: 1.2862 - val_accuracy: 0.5129\n",
      "Epoch 4/10\n",
      "83/83 [==============================] - 68s 823ms/step - loss: 1.3101 - accuracy: 0.4882 - val_loss: 1.2904 - val_accuracy: 0.5129\n",
      "Epoch 5/10\n",
      "83/83 [==============================] - 70s 842ms/step - loss: 1.3127 - accuracy: 0.4875 - val_loss: 1.3004 - val_accuracy: 0.5129\n",
      "Epoch 6/10\n",
      "83/83 [==============================] - 68s 828ms/step - loss: 1.3108 - accuracy: 0.4882 - val_loss: 1.2906 - val_accuracy: 0.5129\n",
      "Epoch 7/10\n",
      "83/83 [==============================] - 72s 870ms/step - loss: 1.3073 - accuracy: 0.4879 - val_loss: 1.2908 - val_accuracy: 0.5129\n",
      "Epoch 8/10\n",
      "83/83 [==============================] - 72s 869ms/step - loss: 1.3112 - accuracy: 0.4886 - val_loss: 1.2884 - val_accuracy: 0.5129\n",
      "Epoch 9/10\n",
      "83/83 [==============================] - 72s 872ms/step - loss: 1.3153 - accuracy: 0.4879 - val_loss: 1.2963 - val_accuracy: 0.5129\n",
      "Epoch 10/10\n",
      "83/83 [==============================] - 68s 818ms/step - loss: 1.3091 - accuracy: 0.4879 - val_loss: 1.2944 - val_accuracy: 0.5129\n"
     ]
    }
   ],
   "source": [
    "# Train the LSTM model\n",
    "history = model.fit(x_train, y_train, epochs=10, validation_split=0.2)"
   ]
  },
  {
   "cell_type": "code",
   "execution_count": 8,
   "id": "3e0129e6",
   "metadata": {},
   "outputs": [
    {
     "data": {
      "image/png": "[encoded data removed]",
      "text/plain": [
       "<Figure size 640x480 with 1 Axes>"
      ]
     },
     "metadata": {},
     "output_type": "display_data"
    }
   ],
   "source": [
    "# plot the training loss and accuracy\n",
    "import matplotlib.pyplot as plt\n",
    "\n",
    "N = 10 #number of epochs\n",
    "plt.style.use(\"ggplot\")\n",
    "plt.figure()\n",
    "plt.plot(np.arange(0, N), history.history[\"loss\"], label=\"train_loss\")\n",
    "plt.plot(np.arange(0, N), history.history[\"val_loss\"], label=\"val_loss\")\n",
    "plt.plot(np.arange(0, N), history.history[\"accuracy\"], label=\"train_acc\")\n",
    "plt.plot(np.arange(0, N), history.history[\"val_accuracy\"], label=\"val_acc\")\n",
    "plt.title(\"Training Loss and Accuracy\")\n",
    "plt.xlabel(\"Epoch #\")\n",
    "plt.ylabel(\"Loss/Accuracy\")\n",
    "plt.legend(loc=\"center right\")\n",
    "plt.savefig(\"LSTM_Model\")"
   ]
  },
  {
   "cell_type": "code",
   "execution_count": null,
   "id": "e849375f",
   "metadata": {},
   "outputs": [],
   "source": []
  }
 ],
 "metadata": {
  "kernelspec": {
   "display_name": "Python 3 (ipykernel)",
   "language": "python",
   "name": "python3"
  },
  "language_info": {
   "codemirror_mode": {
    "name": "ipython",
    "version": 3
   },
   "file_extension": ".py",
   "mimetype": "text/x-python",
   "name": "python",
   "nbconvert_exporter": "python",
   "pygments_lexer": "ipython3",
   "version": "3.9.13"
  }
 },
 "nbformat": 4,
 "nbformat_minor": 5
}
